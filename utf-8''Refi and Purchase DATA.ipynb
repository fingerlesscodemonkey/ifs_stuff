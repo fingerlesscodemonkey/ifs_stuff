{
  "cells": [
    {
      "metadata": {
        "trusted": true
      },
      "cell_type": "code",
      "source": "import pandas as pd\nimport numpy as np\n\nimport matplotlib.pyplot as plt\n\nimport seaborn as sns\n\nimport time# To time processes\n\nimport warnings# To suppress warnings\n\nfrom sklearn.preprocessing import StandardScaler# For scaling dataset\n\nfrom sklearn.cluster import KMeans, AgglomerativeClustering, AffinityPropagation# For clustering\n\nfrom sklearn.mixture import GaussianMixture# For GMM clustering\n\nimport plotly.graph_objs as go\n\nimport os# For os related operations\n\nimport sys\n\nimport plotly.plotly as py\n\nfrom plotly.offline import download_plotlyjs, init_notebook_mode, plot, iplot",
      "execution_count": 33,
      "outputs": []
    },
    {
      "metadata": {
        "trusted": true
      },
      "cell_type": "code",
      "source": "import plotly\n\nplotly.tools.set_credentials_file(username = 'eisnell', api_key = 'kIcpyqwgg4POzzZ28txp')",
      "execution_count": 34,
      "outputs": []
    },
    {
      "metadata": {
        "trusted": true
      },
      "cell_type": "code",
      "source": "adr = pd.read_csv('Refi and Purchase DATA.csv')\ndf = pd.DataFrame(adr)\ndf = df.dropna(subset = ['Finance Type'])",
      "execution_count": 38,
      "outputs": []
    },
    {
      "metadata": {
        "trusted": true
      },
      "cell_type": "code",
      "source": "df['Trade-in Value'] = df['Trade-in Value']\ndata = df[['Credit Score', 'Trade-in Value', 'Finance Type', 'Loans Booked']]",
      "execution_count": 39,
      "outputs": []
    },
    {
      "metadata": {
        "trusted": true
      },
      "cell_type": "code",
      "source": "dfr = pd.DataFrame(data)\n\ndfr = dfr[dfr['Finance Type'] != 'Purchase']\n\ndfr = dfr[dfr['Finance Type'] != 'Refi']\n\ndfr = dfr[dfr['Loans Booked'].isnull()]\n\ndfr = dfr.sort_values(by = ['Credit Score'])\n\ndfp = pd.DataFrame(data)\n\ndfp = dfp[dfp['Finance Type'] != 'Refi']\n\ndfp = dfp[dfp['Finance Type'] != 'Purchase']\n\ndfp = dfp[dfp['Loans Booked'].isnull()]",
      "execution_count": 41,
      "outputs": []
    },
    {
      "metadata": {
        "trusted": true
      },
      "cell_type": "code",
      "source": "scatter = dict(\n  mode = \"markers\",\n  name = \"y\",\n  type = \"scatter3d\",\n  x = dfr['Credit Score'], y = dfr['Trade-in Value'], z = dfr['Loans Booked'],\n  marker = dict(size = 2.5,\n    colorscale = 'Viridis',\n    opacity = .8)\n)\n\nclusters = dict(\n  alphahull = 5,\n  name = \"y\",\n  opacity = 0.1,\n  type = \"mesh3d\",\n  x = dfr['Credit Score'], y = dfr['Trade-in Value'], z = dfr['Loans Booked']\n)\n\nlayout = go.Layout(\n  title = '3D Point Clustering Opportunity', height = 1450, width = 1300,\n  scene = dict(\n    xaxis = dict(\n      nticks = 50,\n      range = [0, 800],\n      zeroline = False),\n    yaxis = dict(\n      nticks = 1000,\n      range = [0, 100000],\n      zeroline = False),\n    zaxis = dict(zeroline = False),\n  ),\n)\n\nfig = dict(data = [scatter, clusters], layout = layout)# Use py.iplot() for IPython notebook\npy.iplot(fig, filename = '3d point clustering')",
      "execution_count": 48,
      "outputs": [
        {
          "output_type": "stream",
          "text": "/home/nbuser/anaconda3_501/lib/python3.6/site-packages/IPython/core/display.py:689: UserWarning:\n\nConsider using IPython.display.IFrame instead\n\n",
          "name": "stderr"
        },
        {
          "output_type": "execute_result",
          "execution_count": 48,
          "data": {
            "text/html": "<iframe id=\"igraph\" scrolling=\"no\" style=\"border:none;\" seamless=\"seamless\" src=\"https://plot.ly/~eisnell/62.embed\" height=\"1450px\" width=\"1300px\"></iframe>",
            "text/plain": "<chart_studio.tools.PlotlyDisplay object>"
          },
          "metadata": {}
        }
      ]
    },
    {
      "metadata": {
        "trusted": true
      },
      "cell_type": "code",
      "source": "",
      "execution_count": null,
      "outputs": []
    }
  ],
  "metadata": {
    "kernelspec": {
      "name": "python36",
      "display_name": "Python 3.6",
      "language": "python"
    },
    "language_info": {
      "mimetype": "text/x-python",
      "nbconvert_exporter": "python",
      "name": "python",
      "pygments_lexer": "ipython3",
      "version": "3.6.6",
      "file_extension": ".py",
      "codemirror_mode": {
        "version": 3,
        "name": "ipython"
      }
    }
  },
  "nbformat": 4,
  "nbformat_minor": 2
}