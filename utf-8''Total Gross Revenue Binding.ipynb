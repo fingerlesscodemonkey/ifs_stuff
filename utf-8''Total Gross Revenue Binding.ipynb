{
  "cells": [
    {
      "metadata": {
        "trusted": true
      },
      "cell_type": "code",
      "source": "import pandas as pd\nimport numpy as np\nimport matplotlib.pyplot as plt\nimport seaborn as sns\nimport time# To time processes\nimport warnings# To suppress warnings\nfrom sklearn.preprocessing import StandardScaler# For scaling dataset\nfrom sklearn.cluster import KMeans, AgglomerativeClustering, AffinityPropagation# For clustering\nfrom sklearn.mixture import GaussianMixture# For GMM clustering\nimport plotly.graph_objs as go\nimport os# For os related operations\nimport sys\nimport plotly.plotly as py\nfrom plotly.offline import download_plotlyjs, init_notebook_mode, plot, iplot",
      "execution_count": 11,
      "outputs": []
    },
    {
      "metadata": {
        "trusted": true
      },
      "cell_type": "code",
      "source": "import plotly\n\nplotly.tools.set_credentials_file(username = 'eisnell', api_key = 'kIcpyqwgg4POzzZ28txp')",
      "execution_count": 12,
      "outputs": []
    },
    {
      "metadata": {
        "trusted": true
      },
      "cell_type": "code",
      "source": "adr = pd.read_csv('Total Gross Revenue Binding.csv')\ndf = pd.DataFrame(adr)\ndf = df.dropna(subset = ['Finance Type'])",
      "execution_count": 13,
      "outputs": []
    },
    {
      "metadata": {
        "trusted": true
      },
      "cell_type": "code",
      "source": "df['Credit Score'] = df['Credit Score']\ndf['LTV'] = df['LTV']\ndf['Total Gross Revenue Binding'] = df['Total Gross Revenue Binding']\ndata = df[['Credit Score','Finance Type', 'LTV', 'Total Gross Revenue Binding']]",
      "execution_count": 14,
      "outputs": []
    },
    {
      "metadata": {
        "trusted": true
      },
      "cell_type": "code",
      "source": "dfr = pd.DataFrame(data)\ndfr = dfr[dfr['Finance Type'] != 'Purchase']",
      "execution_count": 15,
      "outputs": []
    },
    {
      "metadata": {
        "trusted": true
      },
      "cell_type": "code",
      "source": "scatter = dict(\n  mode = \"markers\",\n  name = \"y\",\n  type = \"scatter3d\",\n  x = dfr['Credit Score'], y = dfr['LTV'], z = dfr['Total Gross Revenue Binding'],\n  marker = dict(size = 2.5,\n    opacity = .8)\n)\n\nclusters = dict(\n  alphahull = 5,\n  name = \"y\",\n  opacity = 0.1,\n  type = \"mesh3d\",\n  x = dfr['Credit Score'], y = dfr['LTV'], z = dfr['Total Gross Revenue Binding']\n)\n\nlayout = go.Layout(\n  title = 'Refi', height = 1500, width = 1500,\n  scene = dict(\n    xaxis = dict(\n        title='Credit Score',\n      nticks = 25,\n      range = [450, 900],\n      zeroline = False),\n    yaxis = dict(\n        title='LTV',\n      nticks = 25,\n      range = [0.2, 2.1],\n      zeroline = False),\n    zaxis = dict(\n        title='Total Gross Revenue Binding',\n        nticks = 30,\n        range = [200, 32000],\n        zeroline = False),\n  ),\n)\n\nfig = dict(data = [scatter, clusters], layout = layout)# Use py.iplot() for IPython notebook\n\n\n\npy.iplot(fig, filename = '3d point clustering')",
      "execution_count": 16,
      "outputs": [
        {
          "output_type": "stream",
          "text": "/home/nbuser/anaconda3_501/lib/python3.6/site-packages/IPython/core/display.py:689: UserWarning:\n\nConsider using IPython.display.IFrame instead\n\n",
          "name": "stderr"
        },
        {
          "output_type": "execute_result",
          "execution_count": 16,
          "data": {
            "text/html": "<iframe id=\"igraph\" scrolling=\"no\" style=\"border:none;\" seamless=\"seamless\" src=\"https://plot.ly/~eisnell/62.embed\" height=\"1500px\" width=\"1500px\"></iframe>",
            "text/plain": "<chart_studio.tools.PlotlyDisplay object>"
          },
          "metadata": {}
        }
      ]
    },
    {
      "metadata": {
        "trusted": true
      },
      "cell_type": "code",
      "source": "adr = pd.read_csv('Total Gross Revenue Binding.csv')\ndf = pd.DataFrame(adr)\ndf = df.dropna(subset = ['Finance Type'])",
      "execution_count": 21,
      "outputs": []
    },
    {
      "metadata": {
        "trusted": true
      },
      "cell_type": "code",
      "source": "df['Credit Score'] = df['Credit Score']\ndf['LTV'] = df['LTV']\ndf['Total Gross Revenue Binding'] = df['Total Gross Revenue Binding']\ndata = df[['Credit Score','Finance Type', 'LTV', 'Total Gross Revenue Binding']]",
      "execution_count": 22,
      "outputs": []
    },
    {
      "metadata": {
        "trusted": true
      },
      "cell_type": "code",
      "source": "dfr = pd.DataFrame(data)\ndfr = dfr[dfr['Finance Type'] != 'Refi']",
      "execution_count": 23,
      "outputs": []
    },
    {
      "metadata": {
        "trusted": true,
        "scrolled": true
      },
      "cell_type": "code",
      "source": "scatter = dict(\n  mode = \"markers\",\n  name = \"y\",\n  type = \"scatter3d\",\n  x = dfr['Credit Score'], y = dfr['LTV'], z = dfr['Total Gross Revenue Binding'],\n  marker = dict(size = 2.5,\n    opacity = .8)\n)\n\nclusters = dict(\n  alphahull = 5,\n  name = \"y\",\n  opacity = 0.1,\n  type = \"mesh3d\",\n  x = dfr['Credit Score'], y = dfr['LTV'], z = dfr['Total Gross Revenue Binding']\n)\n\nlayout = go.Layout(\n  title = 'Purchase', height = 1500, width = 1500,\n  scene = dict(\n    xaxis = dict(\n        title='Credit Score',\n      nticks = 25,\n      range = [450, 900],\n      zeroline = False),\n    yaxis = dict(\n        title='LTV',\n      nticks = 25,\n      range = [0.2, 2.1],\n      zeroline = False),\n    zaxis = dict(\n        title='Total Gross Revenue Binding',\n        nticks = 30,\n        range = [200, 32000],\n        zeroline = False),\n  ),\n)\n\nfig = dict(data = [scatter, clusters], layout = layout)# Use py.iplot() for IPython notebook\n\n\n\npy.iplot(fig, filename = '3d point clustering')",
      "execution_count": 24,
      "outputs": [
        {
          "output_type": "stream",
          "text": "/home/nbuser/anaconda3_501/lib/python3.6/site-packages/IPython/core/display.py:689: UserWarning:\n\nConsider using IPython.display.IFrame instead\n\n",
          "name": "stderr"
        },
        {
          "output_type": "execute_result",
          "execution_count": 24,
          "data": {
            "text/html": "<iframe id=\"igraph\" scrolling=\"no\" style=\"border:none;\" seamless=\"seamless\" src=\"https://plot.ly/~eisnell/62.embed\" height=\"1500px\" width=\"1500px\"></iframe>",
            "text/plain": "<chart_studio.tools.PlotlyDisplay object>"
          },
          "metadata": {}
        }
      ]
    },
    {
      "metadata": {
        "trusted": true
      },
      "cell_type": "code",
      "source": "",
      "execution_count": null,
      "outputs": []
    }
  ],
  "metadata": {
    "kernelspec": {
      "name": "python36",
      "display_name": "Python 3.6",
      "language": "python"
    },
    "language_info": {
      "mimetype": "text/x-python",
      "nbconvert_exporter": "python",
      "name": "python",
      "pygments_lexer": "ipython3",
      "version": "3.6.6",
      "file_extension": ".py",
      "codemirror_mode": {
        "version": 3,
        "name": "ipython"
      }
    }
  },
  "nbformat": 4,
  "nbformat_minor": 2
}